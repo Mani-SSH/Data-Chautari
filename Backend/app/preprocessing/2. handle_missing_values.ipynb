{
 "cells": [
  {
   "cell_type": "code",
   "execution_count": 1,
   "metadata": {},
   "outputs": [],
   "source": [
    "import pandas as pd"
   ]
  },
  {
   "cell_type": "code",
   "execution_count": 2,
   "metadata": {},
   "outputs": [],
   "source": [
    "df = pd.read_csv(r'../data/cleaned_dataset_step_1.csv')"
   ]
  },
  {
   "cell_type": "code",
   "execution_count": 3,
   "metadata": {},
   "outputs": [
    {
     "data": {
      "text/html": [
       "<div>\n",
       "<style scoped>\n",
       "    .dataframe tbody tr th:only-of-type {\n",
       "        vertical-align: middle;\n",
       "    }\n",
       "\n",
       "    .dataframe tbody tr th {\n",
       "        vertical-align: top;\n",
       "    }\n",
       "\n",
       "    .dataframe thead th {\n",
       "        text-align: right;\n",
       "    }\n",
       "</style>\n",
       "<table border=\"1\" class=\"dataframe\">\n",
       "  <thead>\n",
       "    <tr style=\"text-align: right;\">\n",
       "      <th></th>\n",
       "      <th>Unnamed: 0</th>\n",
       "      <th>Country</th>\n",
       "      <th>Repositories Count</th>\n",
       "      <th>Followers</th>\n",
       "      <th>Most Used Language</th>\n",
       "      <th>Total Stars</th>\n",
       "      <th>Account Created At</th>\n",
       "      <th>Hireable</th>\n",
       "      <th>Unique Topics</th>\n",
       "      <th>Total Repository Size (KB)</th>\n",
       "    </tr>\n",
       "  </thead>\n",
       "  <tbody>\n",
       "    <tr>\n",
       "      <th>0</th>\n",
       "      <td>0</td>\n",
       "      <td>Singapore</td>\n",
       "      <td>30</td>\n",
       "      <td>102331</td>\n",
       "      <td>JavaScript</td>\n",
       "      <td>2980</td>\n",
       "      <td>2010-11-28T01:05:40Z</td>\n",
       "      <td>NaN</td>\n",
       "      <td>NaN</td>\n",
       "      <td>155931</td>\n",
       "    </tr>\n",
       "    <tr>\n",
       "      <th>1</th>\n",
       "      <td>1</td>\n",
       "      <td>San Francisco</td>\n",
       "      <td>30</td>\n",
       "      <td>44504</td>\n",
       "      <td>Python</td>\n",
       "      <td>11169</td>\n",
       "      <td>2009-07-25T19:06:27Z</td>\n",
       "      <td>NaN</td>\n",
       "      <td>robotics, audio-synthesis, denoising-diffusion...</td>\n",
       "      <td>679441</td>\n",
       "    </tr>\n",
       "    <tr>\n",
       "      <th>2</th>\n",
       "      <td>2</td>\n",
       "      <td>Austin, TX</td>\n",
       "      <td>30</td>\n",
       "      <td>44094</td>\n",
       "      <td>JavaScript</td>\n",
       "      <td>23441</td>\n",
       "      <td>2009-11-08T06:56:21Z</td>\n",
       "      <td>TRUE</td>\n",
       "      <td>async-patterns, observables, security, arrow-f...</td>\n",
       "      <td>62877</td>\n",
       "    </tr>\n",
       "    <tr>\n",
       "      <th>3</th>\n",
       "      <td>3</td>\n",
       "      <td>San Francisco, CA</td>\n",
       "      <td>30</td>\n",
       "      <td>36793</td>\n",
       "      <td>Python</td>\n",
       "      <td>4517</td>\n",
       "      <td>2011-12-22T09:57:32Z</td>\n",
       "      <td>TRUE</td>\n",
       "      <td>NaN</td>\n",
       "      <td>305704</td>\n",
       "    </tr>\n",
       "    <tr>\n",
       "      <th>4</th>\n",
       "      <td>4</td>\n",
       "      <td>9th Ring, Vim</td>\n",
       "      <td>30</td>\n",
       "      <td>36494</td>\n",
       "      <td>JavaScript</td>\n",
       "      <td>4675</td>\n",
       "      <td>2013-05-17T15:05:59Z</td>\n",
       "      <td>NaN</td>\n",
       "      <td>NaN</td>\n",
       "      <td>290287</td>\n",
       "    </tr>\n",
       "  </tbody>\n",
       "</table>\n",
       "</div>"
      ],
      "text/plain": [
       "   Unnamed: 0            Country Repositories Count Followers  \\\n",
       "0           0          Singapore                 30    102331   \n",
       "1           1      San Francisco                 30     44504   \n",
       "2           2         Austin, TX                 30     44094   \n",
       "3           3  San Francisco, CA                 30     36793   \n",
       "4           4      9th Ring, Vim                 30     36494   \n",
       "\n",
       "  Most Used Language Total Stars    Account Created At Hireable  \\\n",
       "0         JavaScript        2980  2010-11-28T01:05:40Z      NaN   \n",
       "1             Python       11169  2009-07-25T19:06:27Z      NaN   \n",
       "2         JavaScript       23441  2009-11-08T06:56:21Z     TRUE   \n",
       "3             Python        4517  2011-12-22T09:57:32Z     TRUE   \n",
       "4         JavaScript        4675  2013-05-17T15:05:59Z      NaN   \n",
       "\n",
       "                                       Unique Topics  \\\n",
       "0                                                NaN   \n",
       "1  robotics, audio-synthesis, denoising-diffusion...   \n",
       "2  async-patterns, observables, security, arrow-f...   \n",
       "3                                                NaN   \n",
       "4                                                NaN   \n",
       "\n",
       "  Total Repository Size (KB)  \n",
       "0                     155931  \n",
       "1                     679441  \n",
       "2                      62877  \n",
       "3                     305704  \n",
       "4                     290287  "
      ]
     },
     "execution_count": 3,
     "metadata": {},
     "output_type": "execute_result"
    }
   ],
   "source": [
    "df.head()"
   ]
  },
  {
   "cell_type": "code",
   "execution_count": 5,
   "metadata": {},
   "outputs": [
    {
     "name": "stdout",
     "output_type": "stream",
     "text": [
      "Missing values per column: \n",
      "Unnamed: 0                       0\n",
      "Country                       3662\n",
      "Repositories Count              10\n",
      "Followers                       10\n",
      "Most Used Language            1671\n",
      "Total Stars                     10\n",
      "Account Created At              13\n",
      "Hireable                      8247\n",
      "Unique Topics                 6538\n",
      "Total Repository Size (KB)      10\n",
      "dtype: int64\n"
     ]
    }
   ],
   "source": [
    "missing_values = df.isnull().sum()\n",
    "print(\"Missing values per column: \")\n",
    "print(missing_values)"
   ]
  },
  {
   "cell_type": "code",
   "execution_count": 6,
   "metadata": {},
   "outputs": [],
   "source": [
    "df['Hireable'] = df['Hireable'].fillna(False)"
   ]
  },
  {
   "cell_type": "code",
   "execution_count": 7,
   "metadata": {},
   "outputs": [
    {
     "name": "stdout",
     "output_type": "stream",
     "text": [
      "Missing values per column: \n",
      "Unnamed: 0                       0\n",
      "Country                       3662\n",
      "Repositories Count              10\n",
      "Followers                       10\n",
      "Most Used Language            1671\n",
      "Total Stars                     10\n",
      "Account Created At              13\n",
      "Hireable                         0\n",
      "Unique Topics                 6538\n",
      "Total Repository Size (KB)      10\n",
      "dtype: int64\n"
     ]
    }
   ],
   "source": [
    "missing_values = df.isnull().sum()\n",
    "print(\"Missing values per column: \")\n",
    "print(missing_values)"
   ]
  },
  {
   "cell_type": "code",
   "execution_count": 8,
   "metadata": {},
   "outputs": [],
   "source": [
    "df.to_csv('../data/cleaned_dataset_step_2.csv', index=False)\n"
   ]
  },
  {
   "cell_type": "code",
   "execution_count": null,
   "metadata": {},
   "outputs": [],
   "source": []
  }
 ],
 "metadata": {
  "kernelspec": {
   "display_name": ".vnev",
   "language": "python",
   "name": "python3"
  },
  "language_info": {
   "codemirror_mode": {
    "name": "ipython",
    "version": 3
   },
   "file_extension": ".py",
   "mimetype": "text/x-python",
   "name": "python",
   "nbconvert_exporter": "python",
   "pygments_lexer": "ipython3",
   "version": "3.12.6"
  }
 },
 "nbformat": 4,
 "nbformat_minor": 2
}
