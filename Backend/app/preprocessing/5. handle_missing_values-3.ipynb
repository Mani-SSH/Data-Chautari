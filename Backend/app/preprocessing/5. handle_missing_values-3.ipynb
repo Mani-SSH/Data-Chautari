{
 "cells": [
  {
   "cell_type": "code",
   "execution_count": 61,
   "metadata": {},
   "outputs": [],
   "source": [
    "import pandas as pd"
   ]
  },
  {
   "cell_type": "code",
   "execution_count": 62,
   "metadata": {},
   "outputs": [],
   "source": [
    "df = pd.read_csv(r'../data/manually_cleaned_dataset_step_5.csv')"
   ]
  },
  {
   "cell_type": "code",
   "execution_count": 63,
   "metadata": {},
   "outputs": [
    {
     "data": {
      "text/html": [
       "<div>\n",
       "<style scoped>\n",
       "    .dataframe tbody tr th:only-of-type {\n",
       "        vertical-align: middle;\n",
       "    }\n",
       "\n",
       "    .dataframe tbody tr th {\n",
       "        vertical-align: top;\n",
       "    }\n",
       "\n",
       "    .dataframe thead th {\n",
       "        text-align: right;\n",
       "    }\n",
       "</style>\n",
       "<table border=\"1\" class=\"dataframe\">\n",
       "  <thead>\n",
       "    <tr style=\"text-align: right;\">\n",
       "      <th></th>\n",
       "      <th>Country</th>\n",
       "      <th>Repositories Count</th>\n",
       "      <th>Followers</th>\n",
       "      <th>Most Used Language</th>\n",
       "      <th>Total Stars</th>\n",
       "      <th>Account Created At</th>\n",
       "      <th>Hireable</th>\n",
       "      <th>Unique Topics</th>\n",
       "      <th>Total Repository Size (KB)</th>\n",
       "    </tr>\n",
       "  </thead>\n",
       "  <tbody>\n",
       "    <tr>\n",
       "      <th>8448</th>\n",
       "      <td>NaN</td>\n",
       "      <td>2</td>\n",
       "      <td>4</td>\n",
       "      <td>Visual Basic</td>\n",
       "      <td>2</td>\n",
       "      <td>2009-02-20 17:33:40+00:00</td>\n",
       "      <td>False</td>\n",
       "      <td>NaN</td>\n",
       "      <td>2516</td>\n",
       "    </tr>\n",
       "    <tr>\n",
       "      <th>8449</th>\n",
       "      <td>NaN</td>\n",
       "      <td>10</td>\n",
       "      <td>5</td>\n",
       "      <td>Python</td>\n",
       "      <td>4</td>\n",
       "      <td>2009-02-20 17:35:10+00:00</td>\n",
       "      <td>False</td>\n",
       "      <td>NaN</td>\n",
       "      <td>17703</td>\n",
       "    </tr>\n",
       "    <tr>\n",
       "      <th>8450</th>\n",
       "      <td>NaN</td>\n",
       "      <td>1</td>\n",
       "      <td>4</td>\n",
       "      <td>C++</td>\n",
       "      <td>2</td>\n",
       "      <td>2009-02-20 18:02:09+00:00</td>\n",
       "      <td>False</td>\n",
       "      <td>NaN</td>\n",
       "      <td>1121</td>\n",
       "    </tr>\n",
       "    <tr>\n",
       "      <th>8451</th>\n",
       "      <td>NaN</td>\n",
       "      <td>1</td>\n",
       "      <td>5</td>\n",
       "      <td>PHP</td>\n",
       "      <td>3</td>\n",
       "      <td>2009-02-20 18:12:10+00:00</td>\n",
       "      <td>False</td>\n",
       "      <td>NaN</td>\n",
       "      <td>1052</td>\n",
       "    </tr>\n",
       "    <tr>\n",
       "      <th>8452</th>\n",
       "      <td>NaN</td>\n",
       "      <td>1</td>\n",
       "      <td>5</td>\n",
       "      <td>Java</td>\n",
       "      <td>2</td>\n",
       "      <td>2009-02-20 18:12:25+00:00</td>\n",
       "      <td>False</td>\n",
       "      <td>NaN</td>\n",
       "      <td>39630</td>\n",
       "    </tr>\n",
       "  </tbody>\n",
       "</table>\n",
       "</div>"
      ],
      "text/plain": [
       "     Country  Repositories Count  Followers Most Used Language  Total Stars  \\\n",
       "8448     NaN                   2          4       Visual Basic            2   \n",
       "8449     NaN                  10          5             Python            4   \n",
       "8450     NaN                   1          4                C++            2   \n",
       "8451     NaN                   1          5                PHP            3   \n",
       "8452     NaN                   1          5               Java            2   \n",
       "\n",
       "             Account Created At  Hireable Unique Topics  \\\n",
       "8448  2009-02-20 17:33:40+00:00     False           NaN   \n",
       "8449  2009-02-20 17:35:10+00:00     False           NaN   \n",
       "8450  2009-02-20 18:02:09+00:00     False           NaN   \n",
       "8451  2009-02-20 18:12:10+00:00     False           NaN   \n",
       "8452  2009-02-20 18:12:25+00:00     False           NaN   \n",
       "\n",
       "      Total Repository Size (KB)  \n",
       "8448                        2516  \n",
       "8449                       17703  \n",
       "8450                        1121  \n",
       "8451                        1052  \n",
       "8452                       39630  "
      ]
     },
     "execution_count": 63,
     "metadata": {},
     "output_type": "execute_result"
    }
   ],
   "source": [
    "df.tail()"
   ]
  },
  {
   "cell_type": "code",
   "execution_count": 64,
   "metadata": {},
   "outputs": [
    {
     "name": "stdout",
     "output_type": "stream",
     "text": [
      "Missing values per column: \n",
      "Country                       2627\n",
      "Repositories Count               0\n",
      "Followers                        0\n",
      "Most Used Language             136\n",
      "Total Stars                      0\n",
      "Account Created At               0\n",
      "Hireable                         0\n",
      "Unique Topics                 5127\n",
      "Total Repository Size (KB)       0\n",
      "dtype: int64\n"
     ]
    }
   ],
   "source": [
    "missing_values = df.isnull().sum()\n",
    "print(\"Missing values per column: \")\n",
    "print(missing_values)"
   ]
  },
  {
   "cell_type": "code",
   "execution_count": 65,
   "metadata": {},
   "outputs": [],
   "source": [
    "df['Country'] = df['Country'].fillna('Unknown')"
   ]
  },
  {
   "cell_type": "code",
   "execution_count": 66,
   "metadata": {},
   "outputs": [
    {
     "name": "stdout",
     "output_type": "stream",
     "text": [
      "Missing values per column: \n",
      "Country                          0\n",
      "Repositories Count               0\n",
      "Followers                        0\n",
      "Most Used Language             136\n",
      "Total Stars                      0\n",
      "Account Created At               0\n",
      "Hireable                         0\n",
      "Unique Topics                 5127\n",
      "Total Repository Size (KB)       0\n",
      "dtype: int64\n"
     ]
    }
   ],
   "source": [
    "missing_values = df.isnull().sum()\n",
    "print(\"Missing values per column: \")\n",
    "print(missing_values)"
   ]
  },
  {
   "cell_type": "code",
   "execution_count": 67,
   "metadata": {},
   "outputs": [
    {
     "name": "stdout",
     "output_type": "stream",
     "text": [
      "5826\n"
     ]
    }
   ],
   "source": [
    "# Filter out rows where Country is \"Unknown\"\n",
    "filtered_df = df[df['Country'] != 'Unknown']\n",
    "print(len(filtered_df))"
   ]
  },
  {
   "cell_type": "code",
   "execution_count": 68,
   "metadata": {},
   "outputs": [
    {
     "name": "stdout",
     "output_type": "stream",
     "text": [
      "Country\n",
      "Afghanistan          Dart\n",
      "Albania        JavaScript\n",
      "Algeria            Python\n",
      "Argentina      JavaScript\n",
      "Armenia                Go\n",
      "                  ...    \n",
      "Uzbekistan     JavaScript\n",
      "Vietnam        JavaScript\n",
      "Wales                Java\n",
      "West Indies            C#\n",
      "Yemen                HTML\n",
      "Name: Most Used Language, Length: 107, dtype: object\n"
     ]
    }
   ],
   "source": [
    "most_frequent_lang = (\n",
    "        filtered_df.groupby('Country')['Most Used Language']\n",
    "        .apply(lambda x: x.mode().iloc[0] if not x.mode().empty else None)\n",
    "    )\n",
    "print(most_frequent_lang)"
   ]
  },
  {
   "cell_type": "code",
   "execution_count": 69,
   "metadata": {},
   "outputs": [],
   "source": [
    "# Map the most frequent language to the missing values\n",
    "df['Most Used Language'] = df.apply(\n",
    "    lambda row: most_frequent_lang[row['Country']]\n",
    "    if pd.isna(row['Most Used Language']) and row['Country'] != 'Unknown'\n",
    "    else row['Most Used Language'], axis=1\n",
    ")"
   ]
  },
  {
   "cell_type": "code",
   "execution_count": 70,
   "metadata": {},
   "outputs": [
    {
     "name": "stdout",
     "output_type": "stream",
     "text": [
      "Missing values per column: \n",
      "Country                          0\n",
      "Repositories Count               0\n",
      "Followers                        0\n",
      "Most Used Language               7\n",
      "Total Stars                      0\n",
      "Account Created At               0\n",
      "Hireable                         0\n",
      "Unique Topics                 5127\n",
      "Total Repository Size (KB)       0\n",
      "dtype: int64\n"
     ]
    }
   ],
   "source": [
    "missing_values = df.isnull().sum()\n",
    "print(\"Missing values per column: \")\n",
    "print(missing_values)"
   ]
  },
  {
   "cell_type": "code",
   "execution_count": 71,
   "metadata": {},
   "outputs": [
    {
     "name": "stdout",
     "output_type": "stream",
     "text": [
      "Rows with Missing 'Most Used Language' (only 'Country' and 'Most Used Language' columns):\n"
     ]
    },
    {
     "data": {
      "text/html": [
       "<div>\n",
       "<style scoped>\n",
       "    .dataframe tbody tr th:only-of-type {\n",
       "        vertical-align: middle;\n",
       "    }\n",
       "\n",
       "    .dataframe tbody tr th {\n",
       "        vertical-align: top;\n",
       "    }\n",
       "\n",
       "    .dataframe thead th {\n",
       "        text-align: right;\n",
       "    }\n",
       "</style>\n",
       "<table border=\"1\" class=\"dataframe\">\n",
       "  <thead>\n",
       "    <tr style=\"text-align: right;\">\n",
       "      <th></th>\n",
       "      <th>Country</th>\n",
       "      <th>Most Used Language</th>\n",
       "    </tr>\n",
       "  </thead>\n",
       "  <tbody>\n",
       "    <tr>\n",
       "      <th>2862</th>\n",
       "      <td>Moldova</td>\n",
       "      <td>None</td>\n",
       "    </tr>\n",
       "    <tr>\n",
       "      <th>5828</th>\n",
       "      <td>Unknown</td>\n",
       "      <td>NaN</td>\n",
       "    </tr>\n",
       "    <tr>\n",
       "      <th>5847</th>\n",
       "      <td>Unknown</td>\n",
       "      <td>NaN</td>\n",
       "    </tr>\n",
       "    <tr>\n",
       "      <th>5848</th>\n",
       "      <td>Unknown</td>\n",
       "      <td>NaN</td>\n",
       "    </tr>\n",
       "    <tr>\n",
       "      <th>5850</th>\n",
       "      <td>Unknown</td>\n",
       "      <td>NaN</td>\n",
       "    </tr>\n",
       "    <tr>\n",
       "      <th>5861</th>\n",
       "      <td>Unknown</td>\n",
       "      <td>NaN</td>\n",
       "    </tr>\n",
       "    <tr>\n",
       "      <th>5862</th>\n",
       "      <td>Unknown</td>\n",
       "      <td>NaN</td>\n",
       "    </tr>\n",
       "  </tbody>\n",
       "</table>\n",
       "</div>"
      ],
      "text/plain": [
       "      Country Most Used Language\n",
       "2862  Moldova               None\n",
       "5828  Unknown                NaN\n",
       "5847  Unknown                NaN\n",
       "5848  Unknown                NaN\n",
       "5850  Unknown                NaN\n",
       "5861  Unknown                NaN\n",
       "5862  Unknown                NaN"
      ]
     },
     "metadata": {},
     "output_type": "display_data"
    }
   ],
   "source": [
    "# Identify rows where 'Most Used Language' is null\n",
    "null_language = df['Most Used Language'].isnull()\n",
    "\n",
    "# Extract only the 'Country' and 'Most Used Language' columns for rows with missing values\n",
    "missing_language_rows = df.loc[null_language, ['Country', 'Most Used Language']]\n",
    "\n",
    "# Display the result\n",
    "print(\"Rows with Missing 'Most Used Language' (only 'Country' and 'Most Used Language' columns):\")\n",
    "display(missing_language_rows)"
   ]
  },
  {
   "cell_type": "code",
   "execution_count": 72,
   "metadata": {},
   "outputs": [],
   "source": [
    "df = df.dropna(subset=['Most Used Language'])"
   ]
  },
  {
   "cell_type": "code",
   "execution_count": 73,
   "metadata": {},
   "outputs": [
    {
     "name": "stdout",
     "output_type": "stream",
     "text": [
      "Missing values per column: \n",
      "Country                          0\n",
      "Repositories Count               0\n",
      "Followers                        0\n",
      "Most Used Language               0\n",
      "Total Stars                      0\n",
      "Account Created At               0\n",
      "Hireable                         0\n",
      "Unique Topics                 5124\n",
      "Total Repository Size (KB)       0\n",
      "dtype: int64\n"
     ]
    }
   ],
   "source": [
    "missing_values = df.isnull().sum()\n",
    "print(\"Missing values per column: \")\n",
    "print(missing_values)"
   ]
  },
  {
   "cell_type": "code",
   "execution_count": 74,
   "metadata": {},
   "outputs": [],
   "source": [
    "df['Unique Topics'] = df['Unique Topics'].fillna('Unknown')"
   ]
  },
  {
   "cell_type": "code",
   "execution_count": 75,
   "metadata": {},
   "outputs": [
    {
     "name": "stdout",
     "output_type": "stream",
     "text": [
      "Missing values per column: \n",
      "Country                       0\n",
      "Repositories Count            0\n",
      "Followers                     0\n",
      "Most Used Language            0\n",
      "Total Stars                   0\n",
      "Account Created At            0\n",
      "Hireable                      0\n",
      "Unique Topics                 0\n",
      "Total Repository Size (KB)    0\n",
      "dtype: int64\n"
     ]
    }
   ],
   "source": [
    "missing_values = df.isnull().sum()\n",
    "print(\"Missing values per column: \")\n",
    "print(missing_values)"
   ]
  },
  {
   "cell_type": "code",
   "execution_count": 76,
   "metadata": {},
   "outputs": [
    {
     "name": "stdout",
     "output_type": "stream",
     "text": [
      "Results saved to '('../data/final_cleaned_data.csv'.\n"
     ]
    }
   ],
   "source": [
    "df.to_csv('../data/final_cleaned_data.csv', index=False)\n",
    "print(\"Results saved to '('../data/final_cleaned_data.csv'.\")"
   ]
  }
 ],
 "metadata": {
  "kernelspec": {
   "display_name": ".vnev",
   "language": "python",
   "name": "python3"
  },
  "language_info": {
   "codemirror_mode": {
    "name": "ipython",
    "version": 3
   },
   "file_extension": ".py",
   "mimetype": "text/x-python",
   "name": "python",
   "nbconvert_exporter": "python",
   "pygments_lexer": "ipython3",
   "version": "3.12.6"
  }
 },
 "nbformat": 4,
 "nbformat_minor": 2
}
