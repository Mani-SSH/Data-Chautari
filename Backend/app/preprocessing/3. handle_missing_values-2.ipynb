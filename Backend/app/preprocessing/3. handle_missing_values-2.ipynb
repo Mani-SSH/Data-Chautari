{
 "cells": [
  {
   "cell_type": "code",
   "execution_count": 84,
   "metadata": {},
   "outputs": [],
   "source": [
    "import pandas as pd"
   ]
  },
  {
   "cell_type": "code",
   "execution_count": 85,
   "metadata": {},
   "outputs": [],
   "source": [
    "# Load the CSV with correct parsing options\n",
    "df = pd.read_csv(r'../data/cleaned_dataset_step_2.csv')"
   ]
  },
  {
   "cell_type": "code",
   "execution_count": 86,
   "metadata": {},
   "outputs": [
    {
     "name": "stdout",
     "output_type": "stream",
     "text": [
      "10324\n"
     ]
    }
   ],
   "source": [
    "df.head()\n",
    "print(len(df))"
   ]
  },
  {
   "cell_type": "code",
   "execution_count": 87,
   "metadata": {},
   "outputs": [
    {
     "name": "stdout",
     "output_type": "stream",
     "text": [
      "Missing values per column: \n",
      "Country                       3652\n",
      "Repositories Count               0\n",
      "Followers                        0\n",
      "Most Used Language            1658\n",
      "Total Stars                      0\n",
      "Account Created At               0\n",
      "Hireable                         0\n",
      "Unique Topics                 6525\n",
      "Total Repository Size (KB)       0\n",
      "dtype: int64\n"
     ]
    }
   ],
   "source": [
    "missing_values = df.isnull().sum()\n",
    "print(\"Missing values per column: \")\n",
    "print(missing_values)"
   ]
  },
  {
   "cell_type": "code",
   "execution_count": 88,
   "metadata": {},
   "outputs": [
    {
     "name": "stdout",
     "output_type": "stream",
     "text": [
      "Country                        object\n",
      "Repositories Count            float64\n",
      "Followers                     float64\n",
      "Most Used Language             object\n",
      "Total Stars                   float64\n",
      "Account Created At             object\n",
      "Hireable                         bool\n",
      "Unique Topics                  object\n",
      "Total Repository Size (KB)    float64\n",
      "dtype: object\n"
     ]
    }
   ],
   "source": [
    "print(df.dtypes)"
   ]
  },
  {
   "cell_type": "code",
   "execution_count": 89,
   "metadata": {},
   "outputs": [
    {
     "name": "stdout",
     "output_type": "stream",
     "text": [
      "Number of repositories with no most used language and size 0: 1252\n"
     ]
    }
   ],
   "source": [
    "# Filter repositories where 'Most Used Language' is null and 'Total Repository Size (KB)' is 0\n",
    "empty_repos = df[(df['Most Used Language'].isnull()) & \n",
    "                 (df['Total Repository Size (KB)'] == 0)]\n",
    "\n",
    "# Count of those repos\n",
    "print(f\"Number of repositories with no most used language and size 0: {len(empty_repos)}\")"
   ]
  },
  {
   "cell_type": "code",
   "execution_count": 90,
   "metadata": {},
   "outputs": [
    {
     "name": "stdout",
     "output_type": "stream",
     "text": [
      "9072\n"
     ]
    }
   ],
   "source": [
    "# Drop rows where 'Most Used Language' is null and 'Total Repository Size (KB)' is 0\n",
    "df = df[~((df['Most Used Language'].isnull()) & \n",
    "          (df['Total Repository Size (KB)'] == 0))]\n",
    "\n",
    "# Verify if the rows are removed\n",
    "print(len(df))\n"
   ]
  },
  {
   "cell_type": "code",
   "execution_count": 91,
   "metadata": {},
   "outputs": [
    {
     "name": "stdout",
     "output_type": "stream",
     "text": [
      "Missing values per column after dropping Empty Repo with no Most Used Language: \n",
      "Country                       2589\n",
      "Repositories Count               0\n",
      "Followers                        0\n",
      "Most Used Language             406\n",
      "Total Stars                      0\n",
      "Account Created At               0\n",
      "Hireable                         0\n",
      "Unique Topics                 5279\n",
      "Total Repository Size (KB)       0\n",
      "dtype: int64\n"
     ]
    }
   ],
   "source": [
    "missing_values = df.isnull().sum()\n",
    "print(\"Missing values per column after dropping Empty Repo with no Most Used Language: \")\n",
    "print(missing_values)"
   ]
  },
  {
   "cell_type": "code",
   "execution_count": 92,
   "metadata": {},
   "outputs": [],
   "source": [
    "df.to_csv('../data/cleaned_dataset_step_3.csv', index=False)"
   ]
  }
 ],
 "metadata": {
  "kernelspec": {
   "display_name": ".vnev",
   "language": "python",
   "name": "python3"
  },
  "language_info": {
   "codemirror_mode": {
    "name": "ipython",
    "version": 3
   },
   "file_extension": ".py",
   "mimetype": "text/x-python",
   "name": "python",
   "nbconvert_exporter": "python",
   "pygments_lexer": "ipython3",
   "version": "3.12.6"
  }
 },
 "nbformat": 4,
 "nbformat_minor": 2
}
